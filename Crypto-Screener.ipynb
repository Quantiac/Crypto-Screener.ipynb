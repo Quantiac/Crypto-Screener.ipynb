{
  "nbformat": 4,
  "nbformat_minor": 0,
  "metadata": {
    "colab": {
      "provenance": [],
      "include_colab_link": true
    },
    "kernelspec": {
      "name": "python3",
      "display_name": "Python 3"
    },
    "language_info": {
      "name": "python"
    }
  },
  "cells": [
    {
      "cell_type": "markdown",
      "metadata": {
        "id": "view-in-github",
        "colab_type": "text"
      },
      "source": [
        "<a href=\"https://colab.research.google.com/github/Quantiac/Crypto-Screener.ipynb/blob/main/Crypto-Screener.ipynb\" target=\"_parent\"><img src=\"https://colab.research.google.com/assets/colab-badge.svg\" alt=\"Open In Colab\"/></a>"
     
      ],
      "metadata": {
        "id": "b7VyxjZsDDUK"
      }
    },
    {
      "cell_type": "code",
      "source": [],
      "metadata": {
        "id": "O9qJW3z5qU_u"
      },
      "execution_count": null,
      "outputs": []
    },
    {
      "cell_type": "code",
      "source": [
        "import requests, time, operator, tabulate, IPython, json\n",
        "import numpy as np"
      ],
      "metadata": {
        "id": "O3xMzu2KghDx"
      },
      "execution_count": null,
      "outputs": []
    },
    {
      "cell_type": "code",
      "execution_count": null,
      "metadata": {
        "id": "5LI_lh1Be3Bu"
      },
      "outputs": [],
      "source": [
        "# how many tokens to include in the final dataset:\n",
        "HOW_MANY = 50\n",
        "# wait time between requests to the API; increase to avoid Error 429:\n",
        "API_WAIT = 3 # seconds\n",
        "# timeout limit for API request:\n",
        "API_TIMEOUT = 20 # seconds\n",
        "\n",
        "CGK_API_URL = \"https://api.coingecko.com/api/v3\"\n",
        "CGK_MARKET_FILTER = \"okex\"\n",
        "\n",
        "CGK_API_ENDPOINT_TOKENS_PREFIX = \"/coins/markets\"\n",
        "CGK_API_ENDPOINT_TOKENS_PARAMS = {\n",
        "    \"vs_currency\": \"usd\",\n",
        "    \"order\": \"market_cap_asc\",\n",
        "    \"per_page\": \"250\",\n",
        "}\n",
        "CGK_API_ENDPOINT_TOKENS_FEATURES = [\"/id\", \"/market_cap\", \"/name\", \"/symbol\"]\n",
        "\n",
        "CGK_API_ENDPOINT_TICKERS_PREFIX = \"/coins\"\n",
        "CGK_API_ENDPOINT_TICKERS_SUFFIX = \"/tickers\"\n",
        "CGK_API_ENDPOINT_TICKERS_PARAMS = {\n",
        "    \"exchange_ids\": CGK_MARKET_FILTER,\n",
        "}\n",
        "\n",
        "CGK_API_ENDPOINT_MARKETCHART_PREFIX = \"/coins\"\n",
        "CGK_API_ENDPOINT_MARKETCHART_SUFFIX = \"/market_chart\"\n",
        "CGK_API_ENDPOINT_MARKETCHART_PARAMS = {\n",
        "    \"vs_currency\": \"usd\", \n",
        "    \"days\": \"6\",\n",
        "    \"interval\": \"daily\",\n",
        "}\n",
        "CGK_API_ENDPOINT_MARKETCHART_FEATURES = [\"/market_caps\", \"/total_volumes\"]"
      ]
    },
    {
      "cell_type": "code",
      "source": [
        "def makeAPIRequest(base_url, endpoint_prefix, params_dict, endpoint_insert=\"\", endpoint_suffix=\"\"):\n",
        "  # construct and make API request\n",
        "  time.sleep(API_WAIT)\n",
        "  request_url = base_url + endpoint_prefix + endpoint_insert + endpoint_suffix\n",
        "  with requests.get(request_url, params=params_dict, timeout=API_TIMEOUT) as response:\n",
        "    if response.status_code != 200:\n",
        "      raise Exception(\"Coingecko API error. Status code: \" + str(response.status_code))\n",
        "    else:\n",
        "      response_json = response.json()\n",
        "      return response_json\n",
        "  "
      ],
      "metadata": {
        "id": "-ji3AwRXhfbS"
      },
      "execution_count": null,
      "outputs": []
    },
    {
      "cell_type": "code",
      "source": [
        "def filterFeatures(data_array, paths_dict):\n",
        "  # filters JSON data to keep only selected keys\n",
        "  data_filtered_features = []\n",
        "  for entry in data_array:\n",
        "    entry_features = {}\n",
        "    for path in paths_dict:\n",
        "      feature = entry\n",
        "      path = [p for p in path.split(\"/\") if p != \"\"]\n",
        "      for path_element in path:\n",
        "        feature = feature[path_element]\n",
        "      entry_features[path_element] = feature\n",
        "    data_filtered_features.append(entry_features)\n",
        "  return data_filtered_features"
      ],
      "metadata": {
        "id": "pBlrEWkgjSZt"
      },
      "execution_count": null,
      "outputs": []
    },
    {
      "cell_type": "code",
      "source": [
        "def getSortedTokens(page=1):\n",
        "  # getting tokens tracked by CGK, sorted by market cap\n",
        "  # (order is configurable in CGK_API_ENDPOINT_TOKENS_PARAMS)\n",
        "  CGK_API_ENDPOINT_TOKENS_PARAMS[\"page\"] = page\n",
        "  try:\n",
        "    sorted_tokens = makeAPIRequest(base_url=CGK_API_URL, \n",
        "                                  endpoint_prefix=CGK_API_ENDPOINT_TOKENS_PREFIX, \n",
        "                                  params_dict=CGK_API_ENDPOINT_TOKENS_PARAMS)\n",
        "  except Exception as e:\n",
        "    print(\"(error) \", e)\n",
        "  sorted_tokens = filterFeatures(sorted_tokens, CGK_API_ENDPOINT_TOKENS_FEATURES)\n",
        "  # removing tokens with 0 market cap (i.e with unknown circulating supply)\n",
        "  sorted_tokens = [token for token in sorted_tokens if token[\"market_cap\"] != 0]\n",
        "  return sorted_tokens"
      ],
      "metadata": {
        "id": "bO7Ue8UMicQw"
      },
      "execution_count": null,
      "outputs": []
    },
    {
      "cell_type": "code",
      "source": [
        "def checkOKXListing(token):\n",
        "  # checking if token is listed on OKX\n",
        "  try: \n",
        "    response = makeAPIRequest(base_url=CGK_API_URL, \n",
        "                  endpoint_prefix=CGK_API_ENDPOINT_TICKERS_PREFIX,\n",
        "                  endpoint_insert=\"/\" + token[\"id\"], \n",
        "                  endpoint_suffix=CGK_API_ENDPOINT_TICKERS_SUFFIX,\n",
        "                  params_dict=CGK_API_ENDPOINT_TICKERS_PARAMS)\n",
        "  except Exception as e:\n",
        "    print(\"(error)\", e)\n",
        "  if len(response[\"tickers\"]) != 0:\n",
        "    return True\n",
        "  else:\n",
        "    return False"
      ],
      "metadata": {
        "id": "KDqyo-Fc7CO9"
      },
      "execution_count": null,
      "outputs": []
    },
    {
      "cell_type": "code",
      "source": [
        "def getTurnoverRate(token_id):\n",
        "  # retrieves trading vol and market cap data over the past 7 days\n",
        "  # turnover rate = avg. trading vol / avg. market cap\n",
        "  response = makeAPIRequest(base_url=CGK_API_URL,\n",
        "                        endpoint_prefix=CGK_API_ENDPOINT_MARKETCHART_PREFIX,\n",
        "                        endpoint_insert=\"/\" + token_id,\n",
        "                        endpoint_suffix=CGK_API_ENDPOINT_MARKETCHART_SUFFIX,\n",
        "                        params_dict=CGK_API_ENDPOINT_MARKETCHART_PARAMS)\n",
        "  filtered_data = filterFeatures([response], CGK_API_ENDPOINT_MARKETCHART_FEATURES)[0]\n",
        "  volumes = [i[1] for i in filtered_data[\"total_volumes\"]]\n",
        "  market_caps = [i[1] for i in filtered_data[\"market_caps\"]]\n",
        "  turnover_rate = np.average(volumes) / np.average(market_caps)\n",
        "  return turnover_rate"
      ],
      "metadata": {
        "id": "9hP79wTwMOA9"
      },
      "execution_count": null,
      "outputs": []
    },
    {
      "cell_type": "code",
      "source": [
        "def displayProgress(page, total, listing_check_iteration=False, listing_check_total=False, done=False):\n",
        "  # custom function to display progress updates\n",
        "  if done:\n",
        "    print(\"page: {}.\".format(page))\n",
        "    print(\"found {} tokens total. done.\".format(total))\n",
        "    return\n",
        "  print(\"finding tokens with low (but known) market cap listed on okx:\")\n",
        "  print(\"page: {}...\".format(page))\n",
        "  if listing_check_iteration:\n",
        "    print(\"checking if token {} out of {} is listed on okx...\".format(listing_check_iteration, listing_check_total))  \n",
        "  print(\"found {} tokens total...\".format(total))\n",
        "  IPython.display.clear_output(True)"
      ],
      "metadata": {
        "id": "0IKGBpemK-DZ"
      },
      "execution_count": null,
      "outputs": []
    },
    {
      "cell_type": "code",
      "source": [
        "# in case the API times out, initialising the following parameters in a separate \n",
        "# cell makes it possible to just resume, instead of starting over.\n",
        "done = False\n",
        "page = 1\n",
        "listed_tokens = [] "
      ],
      "metadata": {
        "id": "Vozj2lNaqQrq"
      },
      "execution_count": null,
      "outputs": []
    },
    {
      "cell_type": "code",
      "source": [
        "while not done:\n",
        "  displayProgress(page=page, total=len(listed_tokens))\n",
        "  sorted_tokens = getSortedTokens(page)\n",
        "  i = 0\n",
        "  for token in sorted_tokens:\n",
        "    displayProgress(page=page, \n",
        "             total=len(listed_tokens), \n",
        "             listing_check_iteration=i, \n",
        "             listing_check_total=len(sorted_tokens))\n",
        "    isListedOKX = checkOKXListing(token)\n",
        "    if isListedOKX:\n",
        "      listed_tokens.append(token)\n",
        "      if len(listed_tokens) >= HOW_MANY:\n",
        "        displayProgress(page=page, total=len(listed_tokens), done=True)\n",
        "        done = True\n",
        "        break      \n",
        "    i += 1\n",
        "  page += 1"
      ],
      "metadata": {
        "id": "wLMSmXezR_T3"
      },
      "execution_count": null,
      "outputs": []
    },
    {
      "cell_type": "code",
      "source": [
        "# writing preliminary results to file, so they can simply be loaded \n",
        "# in the next step\n",
        "f = open(\"listed_tokens.json\", \"w\")\n",
        "js = json.dumps(listed_tokens)\n",
        "f.write(js)\n",
        "f.close()\n",
        "print(\"done.\")"
      ],
      "metadata": {
        "id": "C4s3FmB59kxv"
      },
      "execution_count": null,
      "outputs": []
    },
    {
      "cell_type": "code",
      "source": [
        "f = open(\"listed_tokens.json\", \"r\")\n",
        "listed_tokens = json.load(f)\n",
        "f.close()\n",
        "\n",
        "tokens_with_turnover_rate = []\n",
        "i = 0\n",
        "for entry in listed_tokens:\n",
        "  i += 1\n",
        "\n",
        "  print(\"calculating turnover rates...\")\n",
        "  print(\"token {} out of {}...\".format(i, len(listed_tokens)))\n",
        "  IPython.display.clear_output(True)\n",
        "\n",
        "  cgk_id = entry[\"id\"]\n",
        "  turnover_rate = getTurnoverRate(cgk_id)\n",
        "  entry[\"turnover_rate\"] = turnover_rate\n",
        "  tokens_with_turnover_rate.append(entry)\n",
        "tokens_with_turnover_rate.sort(key=operator.itemgetter(\"turnover_rate\"), reverse=True)\n",
        "print(\"done.\")"
      ],
      "metadata": {
        "id": "l8ndFfjdk15Z"
      },
      "execution_count": null,
      "outputs": []
    },
    {
      "cell_type": "code",
      "source": [
        "formatted_result = [[token[\"name\"],\n",
        "                     token[\"turnover_rate\"],\n",
        "                     \"{:,}\".format(token[\"market_cap\"]),\n",
        "                     token[\"id\"],\n",
        "                     ] for token in tokens_with_turnover_rate]\n",
        "tabulated = tabulate.tabulate(formatted_result, headers = [\"Name\", \"Turnover Rate\", \"Market Cap (USD)\", \"Coingecko ID\"], stralign=\"right\")\n",
        "header = \"# tokens with lowest known market cap, that are listed on okx, sorted by turnover rate\\n\\n\"\n",
        "print(header)\n",
        "print(tabulated)\n",
        "f = open(\"result.txt\", \"w\")\n",
        "f.write(header)\n",
        "f.write(tabulated)\n",
        "f.close()"
      ],
      "metadata": {
        "colab": {
          "base_uri": "https://localhost:8080/"
        },
        "id": "jz4iS6CBk4pV",
        "outputId": "9a3c1c45-4e84-4adb-d466-8f4624d29e48"
      },
      "execution_count": null,
      "outputs": [
        {
          "output_type": "stream",
          "name": "stdout",
          "text": [
            "# tokens with lowest known market cap, that are listed on okx, sorted by turnover rate\n",
            "\n",
            "\n",
            "                 Name    Turnover Rate    Market Cap (USD)           Coingecko ID\n",
            "---------------------  ---------------  ------------------  ---------------------\n",
            "               Primas       1.79071                441,722                 primas\n",
            "            TrueChain       0.836723               371,674             true-chain\n",
            "                   GM       0.62827              3,343,648                     gm\n",
            "       Pickle Finance       0.612595             1,234,532         pickle-finance\n",
            "              RioDeFi       0.545436             1,742,687               rio-defi\n",
            "           Value DeFi       0.515278             1,252,834        value-liquidity\n",
            "             FairGame       0.477083               812,616               fairgame\n",
            "Trabzonspor Fan Token       0.408446             4,067,417  trabzonspor-fan-token\n",
            "  Blockchain Brawlers       0.389721             5,064,114    blockchain-brawlers\n",
            "       Cover Protocol       0.363773             1,764,645         cover-protocol\n",
            "               Swerve       0.262407             2,813,828             swerve-dao\n",
            "         Origin Sport       0.26212              1,592,788           origin-sport\n",
            "             PolyDoge       0.244871             3,807,101               polydoge\n",
            "            V.SYSTEMS       0.236202             4,047,265              v-systems\n",
            "               Lambda       0.236161             3,090,857                 lambda\n",
            "                MoveZ       0.190238             1,349,350                  movez\n",
            "        Kine Protocol       0.189617             1,782,409          kine-protocol\n",
            "              Linkeye       0.181087               688,233                linkeye\n",
            "               Stader       0.173718             3,011,421                 stader\n",
            "            TokenClub       0.169903             5,651,812              tokenclub\n",
            "             INTchain       0.169087             1,763,014    internet-node-token\n",
            "        Element Black       0.157744             1,880,421          element-black\n",
            "       Konomi Network       0.133332               975,782         konomi-network\n",
            "      Lithium Finance       0.120593             3,772,942        lithium-finance\n",
            "          Convergence       0.113028             1,637,707            convergence\n",
            "             Populous       0.0957341            3,075,890               populous\n",
            "             Meme Inu       0.0862605            1,433,712               meme-inu\n",
            "           CherrySwap       0.0807563            2,105,105             cherryswap\n",
            "            Celestial       0.0730411            5,394,018              celestial\n",
            "                 DOSE       0.0648864            3,407,745             dose-token\n",
            "                 TenX       0.0595822            1,740,942                   tenx\n",
            "  WallStreetBets DApp       0.059429             1,467,304  wall-street-bets-dapp\n",
            "         Libra Credit       0.0586433              924,962           libra-credit\n",
            "                YOYOW       0.0572012              203,762                  yoyow\n",
            "    Symbiosis Finance       0.0565213            3,621,459      symbiosis-finance\n",
            "      OneRoot Network       0.0562616              440,530        oneroot-network\n",
            "      OneRoot Network       0.0562616              439,009        oneroot-network\n",
            "              Nebulas       0.055891             1,785,177                nebulas\n",
            " Moeda Loyalty Points       0.0543795            1,042,001   moeda-loyalty-points\n",
            "         Fodl Finance       0.0460174            6,252,118           fodl-finance\n",
            "                  Yee       0.0370102              383,635                    yee\n",
            "                  Yee       0.0370102              383,932                    yee\n",
            "              Kollect       0.0277323            1,877,238                kollect\n",
            "           dHEDGE DAO       0.0249594            5,194,339             dhedge-dao\n",
            "           CyberMiles       0.0217832            1,988,032             cybermiles\n",
            "         KlayCity ORB       0.0183167            3,367,245           klaycity-orb\n",
            "             Unitrade       0.0179314            1,735,735               unitrade\n",
            "              Egretia       0.00354957           1,546,308                egretia\n",
            "            YOU Chain       0.00271255           1,261,717              you-chain\n"
            
          ]
        }
      ]
    }
  ]
}
